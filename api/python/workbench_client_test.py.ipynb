{
 "cells": [
  {
   "cell_type": "code",
   "execution_count": 18,
   "id": "f1c7f34f",
   "metadata": {},
   "outputs": [
    {
     "name": "stdout",
     "output_type": "stream",
     "text": [
      "200\n",
      "(b'{\"data\":{\"runNeo4jToBigQuery\":{\"name\":\"neo4j-to-bigquery-main\",\"id\":\"e97bb2d'\n",
      " b'4-8d14-4400-93d9-989768688f1b\"}}}\\n')\n"
     ]
    }
   ],
   "source": [
    "# https://stackoverflow.com/questions/1739924/python-reload-component-y-imported-with-from-x-import-y\n",
    "from importlib import reload \n",
    "import pprint\n",
    "import workbench_client\n",
    "reload( workbench_client )\n",
    "from workbench_client import WorkbenchClient\n",
    "\n",
    "def display_response(response):\n",
    "        print(response.status_code)\n",
    "        pprint.pprint(response.content)\n",
    "\n",
    "# change this to your login information \n",
    "username = \"first.last@neotechnology.com\"\n",
    "password = \"password\"\n",
    "\n",
    "client = WorkbenchClient(auth_type=\"Basic\")\n",
    "\n",
    "# change this to the location where you have downloaded the mapping.json files from DS Workbench\n",
    "working_dir = \"/<location_of_mapping_json_files>/\"\n",
    "\n",
    "# Sample calls - uncomment the block you want to run, comment out blocks you do not want to run\n",
    "\n",
    "# Neo->Neo Cypher\n",
    "#   JSON downloaded from Data Mapping, Data Transfer > Get Mapping Json, click Download as File\n",
    "#mapping_json = working_dir + \"Neo_to_Neo_Cypher.json\"\n",
    "#response = client.neo4j_to_neo4j(mapping_json, username, password)\n",
    "\n",
    "# Neo->Neo Model\n",
    "#   JSON downloaded from Model, Export > Get Data Export Json, click Download as File\n",
    "#mapping_json = working_dir + \"Neo_to_Neo_Model.json\"\n",
    "#response = client.neo4j_to_neo4j(mapping_json, username, password)\n",
    "\n",
    "# BigQuery->Neo \n",
    "#   JSON downloaded from Data Mapping, Data Transfer > Get Mapping Json, click Download as File\n",
    "#mapping_json = working_dir + \"BigQuery_to_Neo.json\"\n",
    "#response = client.bigquery_to_neo4j(mapping_json, username, password)\n",
    "\n",
    "# Neo->BigQuery \n",
    "#   JSON downloaded from Cypher Suite, Export > Export to BigQuery, click View Mapping JSON, click Download as File\n",
    "mapping_json = working_dir + \"Neo_to_BigQuery.json\"\n",
    "response = client.neo4j_to_bigquery(mapping_json, username, password)\n",
    "\n",
    "display_response(response)\n",
    "\n"
   ]
  },
  {
   "cell_type": "code",
   "execution_count": null,
   "id": "8ca3ce16",
   "metadata": {},
   "outputs": [],
   "source": []
  },
  {
   "cell_type": "code",
   "execution_count": null,
   "id": "29feab92",
   "metadata": {},
   "outputs": [],
   "source": []
  }
 ],
 "metadata": {
  "kernelspec": {
   "display_name": "Python 3 (ipykernel)",
   "language": "python",
   "name": "python3"
  },
  "language_info": {
   "codemirror_mode": {
    "name": "ipython",
    "version": 3
   },
   "file_extension": ".py",
   "mimetype": "text/x-python",
   "name": "python",
   "nbconvert_exporter": "python",
   "pygments_lexer": "ipython3",
   "version": "3.7.9"
  }
 },
 "nbformat": 4,
 "nbformat_minor": 5
}
